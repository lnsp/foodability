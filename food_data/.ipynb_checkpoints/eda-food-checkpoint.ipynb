{
 "cells": [
  {
   "cell_type": "markdown",
   "id": "f01c99d1",
   "metadata": {},
   "source": [
    "# Feature Selection"
   ]
  },
  {
   "cell_type": "code",
   "execution_count": 1,
   "id": "ae6426ea",
   "metadata": {},
   "outputs": [],
   "source": [
    "import pandas as pd"
   ]
  },
  {
   "cell_type": "code",
   "execution_count": 2,
   "id": "5a9dd7c1",
   "metadata": {},
   "outputs": [
    {
     "ename": "KeyboardInterrupt",
     "evalue": "",
     "output_type": "error",
     "traceback": [
      "\u001b[0;31m---------------------------------------------------------------------------\u001b[0m",
      "\u001b[0;31mKeyboardInterrupt\u001b[0m                         Traceback (most recent call last)",
      "\u001b[0;32m/tmp/ipykernel_23004/4044092291.py\u001b[0m in \u001b[0;36m<module>\u001b[0;34m\u001b[0m\n\u001b[0;32m----> 1\u001b[0;31m \u001b[0mdf\u001b[0m \u001b[0;34m=\u001b[0m \u001b[0mpd\u001b[0m\u001b[0;34m.\u001b[0m\u001b[0mread_csv\u001b[0m\u001b[0;34m(\u001b[0m\u001b[0;34m\"en.openfoodfacts.org.products.csv\"\u001b[0m\u001b[0;34m,\u001b[0m \u001b[0msep\u001b[0m\u001b[0;34m=\u001b[0m\u001b[0;34m'\\t'\u001b[0m\u001b[0;34m)\u001b[0m\u001b[0;34m\u001b[0m\u001b[0;34m\u001b[0m\u001b[0m\n\u001b[0m",
      "\u001b[0;32m~/anaconda3/envs/hackatum/lib/python3.9/site-packages/pandas/util/_decorators.py\u001b[0m in \u001b[0;36mwrapper\u001b[0;34m(*args, **kwargs)\u001b[0m\n\u001b[1;32m    309\u001b[0m                     \u001b[0mstacklevel\u001b[0m\u001b[0;34m=\u001b[0m\u001b[0mstacklevel\u001b[0m\u001b[0;34m,\u001b[0m\u001b[0;34m\u001b[0m\u001b[0;34m\u001b[0m\u001b[0m\n\u001b[1;32m    310\u001b[0m                 )\n\u001b[0;32m--> 311\u001b[0;31m             \u001b[0;32mreturn\u001b[0m \u001b[0mfunc\u001b[0m\u001b[0;34m(\u001b[0m\u001b[0;34m*\u001b[0m\u001b[0margs\u001b[0m\u001b[0;34m,\u001b[0m \u001b[0;34m**\u001b[0m\u001b[0mkwargs\u001b[0m\u001b[0;34m)\u001b[0m\u001b[0;34m\u001b[0m\u001b[0;34m\u001b[0m\u001b[0m\n\u001b[0m\u001b[1;32m    312\u001b[0m \u001b[0;34m\u001b[0m\u001b[0m\n\u001b[1;32m    313\u001b[0m         \u001b[0;32mreturn\u001b[0m \u001b[0mwrapper\u001b[0m\u001b[0;34m\u001b[0m\u001b[0;34m\u001b[0m\u001b[0m\n",
      "\u001b[0;32m~/anaconda3/envs/hackatum/lib/python3.9/site-packages/pandas/io/parsers/readers.py\u001b[0m in \u001b[0;36mread_csv\u001b[0;34m(filepath_or_buffer, sep, delimiter, header, names, index_col, usecols, squeeze, prefix, mangle_dupe_cols, dtype, engine, converters, true_values, false_values, skipinitialspace, skiprows, skipfooter, nrows, na_values, keep_default_na, na_filter, verbose, skip_blank_lines, parse_dates, infer_datetime_format, keep_date_col, date_parser, dayfirst, cache_dates, iterator, chunksize, compression, thousands, decimal, lineterminator, quotechar, quoting, doublequote, escapechar, comment, encoding, encoding_errors, dialect, error_bad_lines, warn_bad_lines, on_bad_lines, delim_whitespace, low_memory, memory_map, float_precision, storage_options)\u001b[0m\n\u001b[1;32m    584\u001b[0m     \u001b[0mkwds\u001b[0m\u001b[0;34m.\u001b[0m\u001b[0mupdate\u001b[0m\u001b[0;34m(\u001b[0m\u001b[0mkwds_defaults\u001b[0m\u001b[0;34m)\u001b[0m\u001b[0;34m\u001b[0m\u001b[0;34m\u001b[0m\u001b[0m\n\u001b[1;32m    585\u001b[0m \u001b[0;34m\u001b[0m\u001b[0m\n\u001b[0;32m--> 586\u001b[0;31m     \u001b[0;32mreturn\u001b[0m \u001b[0m_read\u001b[0m\u001b[0;34m(\u001b[0m\u001b[0mfilepath_or_buffer\u001b[0m\u001b[0;34m,\u001b[0m \u001b[0mkwds\u001b[0m\u001b[0;34m)\u001b[0m\u001b[0;34m\u001b[0m\u001b[0;34m\u001b[0m\u001b[0m\n\u001b[0m\u001b[1;32m    587\u001b[0m \u001b[0;34m\u001b[0m\u001b[0m\n\u001b[1;32m    588\u001b[0m \u001b[0;34m\u001b[0m\u001b[0m\n",
      "\u001b[0;32m~/anaconda3/envs/hackatum/lib/python3.9/site-packages/pandas/io/parsers/readers.py\u001b[0m in \u001b[0;36m_read\u001b[0;34m(filepath_or_buffer, kwds)\u001b[0m\n\u001b[1;32m    486\u001b[0m \u001b[0;34m\u001b[0m\u001b[0m\n\u001b[1;32m    487\u001b[0m     \u001b[0;32mwith\u001b[0m \u001b[0mparser\u001b[0m\u001b[0;34m:\u001b[0m\u001b[0;34m\u001b[0m\u001b[0;34m\u001b[0m\u001b[0m\n\u001b[0;32m--> 488\u001b[0;31m         \u001b[0;32mreturn\u001b[0m \u001b[0mparser\u001b[0m\u001b[0;34m.\u001b[0m\u001b[0mread\u001b[0m\u001b[0;34m(\u001b[0m\u001b[0mnrows\u001b[0m\u001b[0;34m)\u001b[0m\u001b[0;34m\u001b[0m\u001b[0;34m\u001b[0m\u001b[0m\n\u001b[0m\u001b[1;32m    489\u001b[0m \u001b[0;34m\u001b[0m\u001b[0m\n\u001b[1;32m    490\u001b[0m \u001b[0;34m\u001b[0m\u001b[0m\n",
      "\u001b[0;32m~/anaconda3/envs/hackatum/lib/python3.9/site-packages/pandas/io/parsers/readers.py\u001b[0m in \u001b[0;36mread\u001b[0;34m(self, nrows)\u001b[0m\n\u001b[1;32m   1045\u001b[0m     \u001b[0;32mdef\u001b[0m \u001b[0mread\u001b[0m\u001b[0;34m(\u001b[0m\u001b[0mself\u001b[0m\u001b[0;34m,\u001b[0m \u001b[0mnrows\u001b[0m\u001b[0;34m=\u001b[0m\u001b[0;32mNone\u001b[0m\u001b[0;34m)\u001b[0m\u001b[0;34m:\u001b[0m\u001b[0;34m\u001b[0m\u001b[0;34m\u001b[0m\u001b[0m\n\u001b[1;32m   1046\u001b[0m         \u001b[0mnrows\u001b[0m \u001b[0;34m=\u001b[0m \u001b[0mvalidate_integer\u001b[0m\u001b[0;34m(\u001b[0m\u001b[0;34m\"nrows\"\u001b[0m\u001b[0;34m,\u001b[0m \u001b[0mnrows\u001b[0m\u001b[0;34m)\u001b[0m\u001b[0;34m\u001b[0m\u001b[0;34m\u001b[0m\u001b[0m\n\u001b[0;32m-> 1047\u001b[0;31m         \u001b[0mindex\u001b[0m\u001b[0;34m,\u001b[0m \u001b[0mcolumns\u001b[0m\u001b[0;34m,\u001b[0m \u001b[0mcol_dict\u001b[0m \u001b[0;34m=\u001b[0m \u001b[0mself\u001b[0m\u001b[0;34m.\u001b[0m\u001b[0m_engine\u001b[0m\u001b[0;34m.\u001b[0m\u001b[0mread\u001b[0m\u001b[0;34m(\u001b[0m\u001b[0mnrows\u001b[0m\u001b[0;34m)\u001b[0m\u001b[0;34m\u001b[0m\u001b[0;34m\u001b[0m\u001b[0m\n\u001b[0m\u001b[1;32m   1048\u001b[0m \u001b[0;34m\u001b[0m\u001b[0m\n\u001b[1;32m   1049\u001b[0m         \u001b[0;32mif\u001b[0m \u001b[0mindex\u001b[0m \u001b[0;32mis\u001b[0m \u001b[0;32mNone\u001b[0m\u001b[0;34m:\u001b[0m\u001b[0;34m\u001b[0m\u001b[0;34m\u001b[0m\u001b[0m\n",
      "\u001b[0;32m~/anaconda3/envs/hackatum/lib/python3.9/site-packages/pandas/io/parsers/c_parser_wrapper.py\u001b[0m in \u001b[0;36mread\u001b[0;34m(self, nrows)\u001b[0m\n\u001b[1;32m    221\u001b[0m         \u001b[0;32mtry\u001b[0m\u001b[0;34m:\u001b[0m\u001b[0;34m\u001b[0m\u001b[0;34m\u001b[0m\u001b[0m\n\u001b[1;32m    222\u001b[0m             \u001b[0;32mif\u001b[0m \u001b[0mself\u001b[0m\u001b[0;34m.\u001b[0m\u001b[0mlow_memory\u001b[0m\u001b[0;34m:\u001b[0m\u001b[0;34m\u001b[0m\u001b[0;34m\u001b[0m\u001b[0m\n\u001b[0;32m--> 223\u001b[0;31m                 \u001b[0mchunks\u001b[0m \u001b[0;34m=\u001b[0m \u001b[0mself\u001b[0m\u001b[0;34m.\u001b[0m\u001b[0m_reader\u001b[0m\u001b[0;34m.\u001b[0m\u001b[0mread_low_memory\u001b[0m\u001b[0;34m(\u001b[0m\u001b[0mnrows\u001b[0m\u001b[0;34m)\u001b[0m\u001b[0;34m\u001b[0m\u001b[0;34m\u001b[0m\u001b[0m\n\u001b[0m\u001b[1;32m    224\u001b[0m                 \u001b[0;31m# destructive to chunks\u001b[0m\u001b[0;34m\u001b[0m\u001b[0;34m\u001b[0m\u001b[0m\n\u001b[1;32m    225\u001b[0m                 \u001b[0mdata\u001b[0m \u001b[0;34m=\u001b[0m \u001b[0m_concatenate_chunks\u001b[0m\u001b[0;34m(\u001b[0m\u001b[0mchunks\u001b[0m\u001b[0;34m)\u001b[0m\u001b[0;34m\u001b[0m\u001b[0;34m\u001b[0m\u001b[0m\n",
      "\u001b[0;32m~/anaconda3/envs/hackatum/lib/python3.9/site-packages/pandas/_libs/parsers.pyx\u001b[0m in \u001b[0;36mpandas._libs.parsers.TextReader.read_low_memory\u001b[0;34m()\u001b[0m\n",
      "\u001b[0;32m~/anaconda3/envs/hackatum/lib/python3.9/site-packages/pandas/_libs/parsers.pyx\u001b[0m in \u001b[0;36mpandas._libs.parsers.TextReader._read_rows\u001b[0;34m()\u001b[0m\n",
      "\u001b[0;32m~/anaconda3/envs/hackatum/lib/python3.9/site-packages/pandas/_libs/parsers.pyx\u001b[0m in \u001b[0;36mpandas._libs.parsers.TextReader._convert_column_data\u001b[0;34m()\u001b[0m\n",
      "\u001b[0;32m~/anaconda3/envs/hackatum/lib/python3.9/site-packages/pandas/_libs/parsers.pyx\u001b[0m in \u001b[0;36mpandas._libs.parsers.TextReader._convert_tokens\u001b[0;34m()\u001b[0m\n",
      "\u001b[0;32m~/anaconda3/envs/hackatum/lib/python3.9/site-packages/pandas/_libs/parsers.pyx\u001b[0m in \u001b[0;36mpandas._libs.parsers.TextReader._convert_with_dtype\u001b[0;34m()\u001b[0m\n",
      "\u001b[0;32m~/anaconda3/envs/hackatum/lib/python3.9/site-packages/pandas/core/dtypes/common.py\u001b[0m in \u001b[0;36mis_extension_array_dtype\u001b[0;34m(arr_or_dtype)\u001b[0m\n\u001b[1;32m   1418\u001b[0m \u001b[0;34m\u001b[0m\u001b[0m\n\u001b[1;32m   1419\u001b[0m \u001b[0;34m\u001b[0m\u001b[0m\n\u001b[0;32m-> 1420\u001b[0;31m \u001b[0;32mdef\u001b[0m \u001b[0mis_extension_array_dtype\u001b[0m\u001b[0;34m(\u001b[0m\u001b[0marr_or_dtype\u001b[0m\u001b[0;34m)\u001b[0m \u001b[0;34m->\u001b[0m \u001b[0mbool\u001b[0m\u001b[0;34m:\u001b[0m\u001b[0;34m\u001b[0m\u001b[0;34m\u001b[0m\u001b[0m\n\u001b[0m\u001b[1;32m   1421\u001b[0m     \"\"\"\n\u001b[1;32m   1422\u001b[0m     \u001b[0mCheck\u001b[0m \u001b[0;32mif\u001b[0m \u001b[0man\u001b[0m \u001b[0mobject\u001b[0m \u001b[0;32mis\u001b[0m \u001b[0ma\u001b[0m \u001b[0mpandas\u001b[0m \u001b[0mextension\u001b[0m \u001b[0marray\u001b[0m \u001b[0mtype\u001b[0m\u001b[0;34m.\u001b[0m\u001b[0;34m\u001b[0m\u001b[0;34m\u001b[0m\u001b[0m\n",
      "\u001b[0;31mKeyboardInterrupt\u001b[0m: "
     ]
    }
   ],
   "source": [
    "df = pd.read_csv(\"en.openfoodfacts.org.products.csv\", sep='\\t')"
   ]
  },
  {
   "cell_type": "code",
   "execution_count": null,
   "id": "a8d82e0a",
   "metadata": {},
   "outputs": [],
   "source": [
    "head = df.sample(100)"
   ]
  },
  {
   "cell_type": "code",
   "execution_count": null,
   "id": "cbe3ad75",
   "metadata": {},
   "outputs": [],
   "source": [
    "df[\"stores\"] = df[\"stores\"].str.lower().str.strip()"
   ]
  },
  {
   "cell_type": "code",
   "execution_count": null,
   "id": "dcb8ea35",
   "metadata": {},
   "outputs": [],
   "source": [
    "for store in df[\"stores\"].unique():\n",
    "    print(store)"
   ]
  },
  {
   "cell_type": "code",
   "execution_count": null,
   "id": "e6edc5ec",
   "metadata": {},
   "outputs": [],
   "source": [
    "df = df[df[\"brands_tags\"].isin([\"lidl\", \"rewe\", \"aldi\", \"netto\"])]"
   ]
  },
  {
   "cell_type": "code",
   "execution_count": null,
   "id": "6a8328ac",
   "metadata": {},
   "outputs": [],
   "source": [
    "cols = [\"code\", \"product_name\", \"quantity\", \"packaging\", \"packaging_text\", \"packaging_tags\", \"brands\", \n",
    "        \"categories_tags\", \"categories_en\", \"origins_en\", \"labels_en\", \"stores\", \"serving_size\", \"image_url\"]"
   ]
  },
  {
   "cell_type": "markdown",
   "id": "14c6c7ec",
   "metadata": {},
   "source": [
    "# Feature Engineering"
   ]
  },
  {
   "cell_type": "code",
   "execution_count": null,
   "id": "7ee4df38",
   "metadata": {},
   "outputs": [],
   "source": [
    "for e in df[cols][\"packaging_tags\"].unique():\n",
    "    print(e)"
   ]
  },
  {
   "cell_type": "code",
   "execution_count": null,
   "id": "06fd620f",
   "metadata": {},
   "outputs": [],
   "source": [
    "PLASTIC_TAGS = [\"plastic\", \"plastique\", \"plastico\", \"kunststoff\", \"pet\", \"pp\", \"foil\", \"plastik\"]\n",
    "plastic = df[\"packaging_tags\"].map(lambda x: any([tag in str(x).lower().split(\",\") for tag in PLASTIC_TAGS]))"
   ]
  },
  {
   "cell_type": "code",
   "execution_count": null,
   "id": "b2d0fade",
   "metadata": {},
   "outputs": [],
   "source": [
    "CARTON_TAGS = [\"paper\", \"papier\", \"carton\", \"card\", \"karton\", \"tetra\", \"papel\"]\n",
    "carton = df[\"packaging_tags\"].map(lambda x: any([tag in str(x).lower().split(\",\") for tag in CARTON_TAGS]))"
   ]
  },
  {
   "cell_type": "code",
   "execution_count": null,
   "id": "12cbd35e",
   "metadata": {},
   "outputs": [],
   "source": [
    "GLASS_TAGS = [\"glass\", \"glas\"]\n",
    "glass = df[\"packaging_tags\"].map(lambda x: any([tag in str(x).lower().split(\",\") for tag in GLASS_TAGS]))"
   ]
  },
  {
   "cell_type": "code",
   "execution_count": null,
   "id": "5adbea12",
   "metadata": {},
   "outputs": [],
   "source": [
    "METAL_TAGS = [\"metalique\", \"aluminium\", \"metal\"]\n",
    "metal = df[\"packaging_tags\"].map(lambda x: any([tag in str(x).lower().split(\",\") for tag in METAL_TAGS]))"
   ]
  },
  {
   "cell_type": "markdown",
   "id": "dfc3e1a0",
   "metadata": {},
   "source": [
    "## Approximate area of packaging based on volumne"
   ]
  },
  {
   "cell_type": "code",
   "execution_count": null,
   "id": "309ad191",
   "metadata": {},
   "outputs": [],
   "source": [
    "from quantulum3 import parser"
   ]
  },
  {
   "cell_type": "code",
   "execution_count": null,
   "id": "d75d1ae5",
   "metadata": {},
   "outputs": [],
   "source": [
    "quants = parser.parse('130 ml')\n",
    "quants"
   ]
  },
  {
   "cell_type": "code",
   "execution_count": null,
   "id": "3b3c8cee",
   "metadata": {},
   "outputs": [],
   "source": [
    "def get_weight(s):\n",
    "    if len(s) == 0:\n",
    "        return float(\"nan\")\n",
    "    quants = parser.parse(str(s))\n",
    "    if len(quants) == 0:\n",
    "        return float(\"nan\")\n",
    "    quant = quants[0]\n",
    "    unit = quant.unit.name\n",
    "    if quant.value < 0:\n",
    "        return float(\"nan\")\n",
    "    if unit == \"gram\":\n",
    "        return float(quant.value)\n",
    "    if unit == \"litre\":\n",
    "        return float(quant.value) * 1000\n",
    "    if unit == \"centilitre\":\n",
    "        return float(quant.value) * 100\n",
    "    if unit == \"kilogram\":\n",
    "        return float(quant.value) * 1000\n",
    "    if unit == \"ounce\":\n",
    "        return float(quant.value) * 28.35\n",
    "    if unit == \"pound-mass\":\n",
    "        return float(quant.value) * 453.592\n",
    "    if unit == \"gallon\":\n",
    "        return float(quant.value) * 3.78541 * 1000\n",
    "    if unit == \"cubic centimetre\":\n",
    "        return float(quant.value)\n",
    "    return float(\"nan\")"
   ]
  },
  {
   "cell_type": "markdown",
   "id": "63aa67e8",
   "metadata": {},
   "source": [
    "For the sake of simplicity, we assume that the volume is equal to the weight (i.e. 750 g = 0.75l). Weights are given in gramms. Packaging area is given square cm."
   ]
  },
  {
   "cell_type": "code",
   "execution_count": null,
   "id": "fd89114c",
   "metadata": {
    "scrolled": true
   },
   "outputs": [],
   "source": [
    "weight = df[\"quantity\"].fillna(\"\").map(lambda x: get_weight(x))"
   ]
  },
  {
   "cell_type": "code",
   "execution_count": null,
   "id": "51f2dc76",
   "metadata": {},
   "outputs": [],
   "source": [
    "weight[weight > 50*1000] = float(\"nan\")\n",
    "weight[weight < 0] = float(\"nan\")"
   ]
  },
  {
   "cell_type": "code",
   "execution_count": null,
   "id": "bebf2696",
   "metadata": {},
   "outputs": [],
   "source": [
    "packaging_area = weight.map(lambda x: (((x/1000.0)**(1./3.))**2) * 6)"
   ]
  },
  {
   "cell_type": "code",
   "execution_count": null,
   "id": "a67d40df",
   "metadata": {},
   "outputs": [],
   "source": [
    "packaging_area.max()"
   ]
  },
  {
   "cell_type": "code",
   "execution_count": null,
   "id": "65bc782d",
   "metadata": {},
   "outputs": [],
   "source": [
    "df[\"weight\"] = weight\n",
    "cols.append(\"weight\")\n",
    "df[\"packaging area\"] = packaging_area\n",
    "cols.append(\"packaging area\")"
   ]
  },
  {
   "cell_type": "code",
   "execution_count": null,
   "id": "bf7ec06d",
   "metadata": {},
   "outputs": [],
   "source": [
    "df[\"materials\"] = df[\"weight\"].map(lambda x: [])"
   ]
  },
  {
   "cell_type": "code",
   "execution_count": null,
   "id": "8f455b5b",
   "metadata": {},
   "outputs": [],
   "source": [
    "df[\"glass\"] = glass\n",
    "df[\"carton\"] = carton\n",
    "df[\"metal\"] = metal\n",
    "df[\"plastic\"] = plastic"
   ]
  },
  {
   "cell_type": "code",
   "execution_count": null,
   "id": "0d1aa772",
   "metadata": {},
   "outputs": [],
   "source": [
    "cols += [\"glass\", \"carton\", \"metal\", \"plastic\"]"
   ]
  },
  {
   "cell_type": "code",
   "execution_count": null,
   "id": "f55784d3",
   "metadata": {
    "scrolled": true
   },
   "outputs": [],
   "source": [
    "df[cols]"
   ]
  },
  {
   "cell_type": "markdown",
   "id": "9dd1f253",
   "metadata": {},
   "source": [
    "# Export data"
   ]
  },
  {
   "cell_type": "code",
   "execution_count": null,
   "id": "8a0976c7",
   "metadata": {},
   "outputs": [],
   "source": [
    "df[cols].to_csv(\"min_food_data.csv\")"
   ]
  }
 ],
 "metadata": {
  "kernelspec": {
   "display_name": "Python 3 (ipykernel)",
   "language": "python",
   "name": "python3"
  },
  "language_info": {
   "codemirror_mode": {
    "name": "ipython",
    "version": 3
   },
   "file_extension": ".py",
   "mimetype": "text/x-python",
   "name": "python",
   "nbconvert_exporter": "python",
   "pygments_lexer": "ipython3",
   "version": "3.9.7"
  }
 },
 "nbformat": 4,
 "nbformat_minor": 5
}
